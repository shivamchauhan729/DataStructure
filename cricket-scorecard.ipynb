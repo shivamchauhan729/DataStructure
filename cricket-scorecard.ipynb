{
 "cells": [
  {
   "cell_type": "markdown",
   "metadata": {},
   "source": [
    "### Name : Shivam Chauhan"
   ]
  },
  {
   "cell_type": "markdown",
   "metadata": {},
   "source": [
    "Problem:\n",
    "\n",
    "Design a cricket scorecard that will show the score for a team along with score of each player.\n",
    "You will be given the number of players in each team, the number of overs and their batting\n",
    "order as input. Then, we can input overs ball by ball with the runs scored on that ball (could be\n",
    "wide, no ball or a wicket as well).\n",
    "You are expected to print individual scores, number of balls faced, number of 4s, number of 6s\n",
    "for all the players from the batting side at the end of every over. You also need to print total\n",
    "score, total wickets. Essentially, you need to keep a track of all the players, strike changes (at\n",
    "the end of the over or after taking singles or 3s) and maintain their scores, also keep track of\n",
    "extra bowls that are being bowled (like wides or no balls). You also need to print which team\n",
    "won the match at the end.\n",
    "This is the bare minimum solution which is expected for the problem. You can add some more\n",
    "features once you are done with these, like maintaining bowlers record (total overs bowled, runs\n",
    "conceded, wickets taken, maiden overs, dot balls, economy, etc.). Total team extras, batsman\n",
    "strike rates, etc. can be added too. But these are \"good to have\" features, please try to complete\n",
    "the bare minimum first."
   ]
  },
  {
   "cell_type": "markdown",
   "metadata": {},
   "source": [
    "1. I have implemented the solution which is expected for the problem.\n",
    "2. I have considered the some of the complex situations like when a wicket falls then the new player that comes got the    appropriate posistion.\n",
    "3. I have also kept in mind when ball is wide, number of balls must be thrown in appropriate number and the runs are incremented accordingly. Also when wicket falls, score remains same but new player comes \n",
    "4. Used different data structures like list, dict, defaultdict, numpy array and its operations\n",
    "5. Also used pandas for storing the scorecard into dataframes\n",
    "6. At the end the dataframes for the performance of both the teams are stored in separate csv files, so that in future that could be used for some analytical purpose."
   ]
  },
  {
   "cell_type": "code",
   "execution_count": 1,
   "metadata": {
    "scrolled": true
   },
   "outputs": [],
   "source": [
    "import numpy as np\n",
    "import pandas as pd\n",
    "from collections import defaultdict"
   ]
  },
  {
   "cell_type": "markdown",
   "metadata": {},
   "source": [
    "#### Class that will input the names of the players"
   ]
  },
  {
   "cell_type": "code",
   "execution_count": 2,
   "metadata": {},
   "outputs": [],
   "source": [
    "class players_input:\n",
    "    def players(self,num_players):\n",
    "        players_name = np.array([input() for _ in range(num_players)],str)\n",
    "        return players_name"
   ]
  },
  {
   "cell_type": "markdown",
   "metadata": {},
   "source": [
    "#### Member functions will help in creating scorecards using DefaulDict, List, Numpy arrays and other numpy operations"
   ]
  },
  {
   "cell_type": "code",
   "execution_count": 23,
   "metadata": {},
   "outputs": [],
   "source": [
    "class score_overs_runs_status:\n",
    "    def overs(self,num_overs):\n",
    "        num_ball = 0\n",
    "        runs_per_over = 0\n",
    "        runs_per_over_list = []\n",
    "        runs_per_over_dict = defaultdict(list)\n",
    "\n",
    "        for i in range(num_overs):\n",
    "            print(\"Over {}:\".format(i+1))\n",
    "            while(num_ball < 6):\n",
    "                ball = input()\n",
    "                num_ball+=1\n",
    "\n",
    "                if (ball == 'W' or ball == 'w'):\n",
    "                    runs_per_over_dict[i+1].append(ball)  ## this helps in appending defaultdict with the wicket(w) value when 'Wicket' occours\n",
    "\n",
    "                elif (ball == 'Wd' or ball == 'wd'):\n",
    "                    runs_per_over_dict[i+1].append(ball)  ## this helps in appending defaultdict with the wide(wd) value when wide occours\n",
    "                    runs_per_over+=1                      ## runs are increased by 1      \n",
    "                    num_ball-=1                           ## balls decreased by 1 as num_balls is incremented at that time only when ball is thrown irrespective of wide or normal ball\n",
    "\n",
    "                else:\n",
    "                    runs_per_over+=int(ball)   ## runs increased by the value of the ball thrown             \n",
    "                    runs_per_over_dict[i+1].append(int(ball)) ## this helps in appending defaultdict with the normal run (from 1 to 6) when normal delievery is thrown\n",
    "\n",
    "            runs_per_over_list.append(runs_per_over)  ## this list helps in calculating the total runs at the end\n",
    "            num_ball = 0                            ## these are again set to 0\n",
    "            runs_per_over = 0\n",
    "\n",
    "        return runs_per_over_list,runs_per_over_dict\n",
    "        #return score_status\n",
    "   \n",
    "\n",
    "    def score(self,runs_per_over_dict):\n",
    "        run_players = [0]*5               ## this helps in maintaining the runs by each player at the end of overs\n",
    "        boundary_four = defaultdict(list) ## defaultdict where key=player_name and the value= fours scored by him\n",
    "        boundary_six = defaultdict(list)  ## defaultdict where key=player_name and the value = sixes scored by him\n",
    "        no_of_balls = defaultdict(np.sum(list))  ## defaultdict where key=player_names and value = no. of balls faced by him\n",
    "        c1 = 0                                   ## player having stike\n",
    "        c2 = 1                                    ## player at non-striker end \n",
    "        for i in range(num_overs):\n",
    "\n",
    "            over_runs = runs_per_over_dict[i+1]\n",
    "            \n",
    "            for j in range(len(over_runs)):\n",
    "\n",
    "                if(over_runs[j]=='Wd' or over_runs[j]=='wd'):   ## if there is wide nothing happens, no player gets increment\n",
    "                    continue\n",
    "\n",
    "                if(over_runs[j]=='W' or over_runs[j]=='w'):   ## if there is wicket then there is change in striking place values\n",
    "                    if(c1%2==0):\n",
    "                        no_of_balls[c1+1].append(1)    ## defaultdict where key=playername and value=signal 1 raised\n",
    "                        c1+=2       ## if player at the striker wicket falls, then new player that will come will be at +2 place\n",
    "                                    ## this helps in avoiding redundancy of player names. Also mathematically proven.\n",
    "                                    ## this was done because when the new player comes he will get the appropriate position\n",
    "                        continue\n",
    "                    else:\n",
    "                        no_of_balls[c1+1].append(1)  \n",
    "                        c1+=1       ## if player at non striker wicket falls, then new player that will come will be at +1 place\n",
    "                                    ## this helps in avoiding redundancy of player names. Also mathematically proven.\n",
    "                                    ## this was done because when the new player comes he will get the appropriate position\n",
    "                        continue\n",
    "\n",
    "\n",
    "                if (over_runs[j]%2!=0):\n",
    "                    run_players[c1]+=over_runs[j]   \n",
    "                    no_of_balls[c1+1].append(1)   ## defaultdict with key=playernames and values=signal 1 raised\n",
    "                    c1,c2 = c2,c1                 ## if the run scored is a odd number then we will swap the position of striker\n",
    "                                                  ## and non-striker end\n",
    "                elif (over_runs[j]%2==0):\n",
    "                    run_players[c1]+=over_runs[j]  ## if the run scored is an even number then we will continue with the positions\n",
    "                    no_of_balls[c1+1].append(1)   ## defaultdict with key=playernames and values=signal 1 raised \n",
    "\n",
    "                    if(over_runs[j]==4):\n",
    "                        boundary_four[c1+1].append(over_runs[j])  ## defaultdict with key=playername and values=four scored\n",
    "                    elif(over_runs[j]==6):\n",
    "                        boundary_six[c1+1].append(over_runs[j])  ## defaultdict with key=playername and values=six scored\n",
    "                    else:\n",
    "                        pass\n",
    "\n",
    "        return run_players,boundary_four,boundary_six,no_of_balls\n",
    "    \n",
    "    def scorecard_status(self,runs_per_over_dict):  ## this function helps in printing the scorecard status and putting it into dataframe\n",
    "        run_players,boundary_four,boundary_six,no_of_balls = summary_card.score(runs_per_over_dict)\n",
    "        scorecard = pd.DataFrame(columns=[\"Player Name\",\"Score\",\"4s\",\"6s\",\"Balls\"])\n",
    "        scorecard['Player Name'] = team_1_name_players\n",
    "        scorecard['Score'] = run_players\n",
    "        scorecard.index = [i for i in range(1,num_players+1)]\n",
    "        for i in scorecard.index:\n",
    "            scorecard['6s'][i] = len(boundary_six[i])\n",
    "            scorecard['4s'][i] = len(boundary_four[i])\n",
    "            scorecard['Balls'][i] = len(no_of_balls[i])\n",
    "        return scorecard\n",
    "\n"
   ]
  },
  {
   "cell_type": "markdown",
   "metadata": {},
   "source": [
    "#### classes objects defined"
   ]
  },
  {
   "cell_type": "code",
   "execution_count": 24,
   "metadata": {},
   "outputs": [],
   "source": [
    "entry = players_input()\n",
    "summary_card = score_overs_runs_status()"
   ]
  },
  {
   "cell_type": "markdown",
   "metadata": {},
   "source": [
    "#### inputs provided"
   ]
  },
  {
   "cell_type": "code",
   "execution_count": 25,
   "metadata": {
    "scrolled": true
   },
   "outputs": [
    {
     "name": "stdout",
     "output_type": "stream",
     "text": [
      "Number of players for each team : 5\n",
      "Number of overs : 2\n"
     ]
    }
   ],
   "source": [
    "num_players = int(input(\"Number of players for each team : \"))\n",
    "num_overs = int(input(\"Number of overs : \"))"
   ]
  },
  {
   "cell_type": "markdown",
   "metadata": {},
   "source": [
    "#### Input player names for both the team together , first team 1 and then team 2 (as per the size of team given)"
   ]
  },
  {
   "cell_type": "code",
   "execution_count": 26,
   "metadata": {
    "scrolled": false
   },
   "outputs": [
    {
     "name": "stdout",
     "output_type": "stream",
     "text": [
      "p1\n",
      "p2\n",
      "p3\n",
      "p4\n",
      "p5\n",
      "p6\n",
      "p7\n",
      "p8\n",
      "p9\n",
      "p10\n"
     ]
    }
   ],
   "source": [
    "team_1_name_players = entry.players(num_players)\n",
    "team_2_name_players = entry.players(num_players)"
   ]
  },
  {
   "cell_type": "markdown",
   "metadata": {},
   "source": [
    "#### Run scored for team 1 per ball"
   ]
  },
  {
   "cell_type": "code",
   "execution_count": 27,
   "metadata": {
    "scrolled": true
   },
   "outputs": [
    {
     "name": "stdout",
     "output_type": "stream",
     "text": [
      "Over 1:\n",
      "4\n",
      "6\n",
      "w\n",
      "wd\n",
      "1\n",
      "3\n",
      "2\n",
      "Over 2:\n",
      "1\n",
      "1\n",
      "wd\n",
      "w\n",
      "3\n",
      "6\n",
      "4\n"
     ]
    }
   ],
   "source": [
    "tot_runs,runs_per_over_dict = summary_card.overs(num_overs)"
   ]
  },
  {
   "cell_type": "code",
   "execution_count": 28,
   "metadata": {},
   "outputs": [
    {
     "name": "stderr",
     "output_type": "stream",
     "text": [
      "C:\\Users\\Shivam\\AppData\\Local\\Continuum\\anaconda3\\lib\\site-packages\\ipykernel_launcher.py:90: SettingWithCopyWarning: \n",
      "A value is trying to be set on a copy of a slice from a DataFrame\n",
      "\n",
      "See the caveats in the documentation: https://pandas.pydata.org/pandas-docs/stable/user_guide/indexing.html#returning-a-view-versus-a-copy\n",
      "C:\\Users\\Shivam\\AppData\\Local\\Continuum\\anaconda3\\lib\\site-packages\\ipykernel_launcher.py:91: SettingWithCopyWarning: \n",
      "A value is trying to be set on a copy of a slice from a DataFrame\n",
      "\n",
      "See the caveats in the documentation: https://pandas.pydata.org/pandas-docs/stable/user_guide/indexing.html#returning-a-view-versus-a-copy\n",
      "C:\\Users\\Shivam\\AppData\\Local\\Continuum\\anaconda3\\lib\\site-packages\\ipykernel_launcher.py:92: SettingWithCopyWarning: \n",
      "A value is trying to be set on a copy of a slice from a DataFrame\n",
      "\n",
      "See the caveats in the documentation: https://pandas.pydata.org/pandas-docs/stable/user_guide/indexing.html#returning-a-view-versus-a-copy\n"
     ]
    },
    {
     "data": {
      "text/html": [
       "<div>\n",
       "<style scoped>\n",
       "    .dataframe tbody tr th:only-of-type {\n",
       "        vertical-align: middle;\n",
       "    }\n",
       "\n",
       "    .dataframe tbody tr th {\n",
       "        vertical-align: top;\n",
       "    }\n",
       "\n",
       "    .dataframe thead th {\n",
       "        text-align: right;\n",
       "    }\n",
       "</style>\n",
       "<table border=\"1\" class=\"dataframe\">\n",
       "  <thead>\n",
       "    <tr style=\"text-align: right;\">\n",
       "      <th></th>\n",
       "      <th>Player Name</th>\n",
       "      <th>Score</th>\n",
       "      <th>4s</th>\n",
       "      <th>6s</th>\n",
       "      <th>Balls</th>\n",
       "    </tr>\n",
       "  </thead>\n",
       "  <tbody>\n",
       "    <tr>\n",
       "      <th>1</th>\n",
       "      <td>p1</td>\n",
       "      <td>10</td>\n",
       "      <td>1</td>\n",
       "      <td>1</td>\n",
       "      <td>3</td>\n",
       "    </tr>\n",
       "    <tr>\n",
       "      <th>2</th>\n",
       "      <td>p2</td>\n",
       "      <td>14</td>\n",
       "      <td>1</td>\n",
       "      <td>1</td>\n",
       "      <td>4</td>\n",
       "    </tr>\n",
       "    <tr>\n",
       "      <th>3</th>\n",
       "      <td>p3</td>\n",
       "      <td>4</td>\n",
       "      <td>0</td>\n",
       "      <td>0</td>\n",
       "      <td>4</td>\n",
       "    </tr>\n",
       "    <tr>\n",
       "      <th>4</th>\n",
       "      <td>p4</td>\n",
       "      <td>0</td>\n",
       "      <td>0</td>\n",
       "      <td>0</td>\n",
       "      <td>0</td>\n",
       "    </tr>\n",
       "    <tr>\n",
       "      <th>5</th>\n",
       "      <td>p5</td>\n",
       "      <td>3</td>\n",
       "      <td>0</td>\n",
       "      <td>0</td>\n",
       "      <td>1</td>\n",
       "    </tr>\n",
       "  </tbody>\n",
       "</table>\n",
       "</div>"
      ],
      "text/plain": [
       "  Player Name  Score 4s 6s Balls\n",
       "1          p1     10  1  1     3\n",
       "2          p2     14  1  1     4\n",
       "3          p3      4  0  0     4\n",
       "4          p4      0  0  0     0\n",
       "5          p5      3  0  0     1"
      ]
     },
     "execution_count": 28,
     "metadata": {},
     "output_type": "execute_result"
    }
   ],
   "source": [
    "scoring_card_team1 = summary_card.scorecard_status(runs_per_over_dict)\n",
    "scoring_card_team1"
   ]
  },
  {
   "cell_type": "code",
   "execution_count": 29,
   "metadata": {},
   "outputs": [
    {
     "name": "stdout",
     "output_type": "stream",
     "text": [
      "Total Runs by Team 1 : 33\n"
     ]
    }
   ],
   "source": [
    "print(\"Total Runs by Team 1 : {}\".format(np.sum(tot_runs)))"
   ]
  },
  {
   "cell_type": "markdown",
   "metadata": {},
   "source": [
    "#### Runs scored by Team 2 per ball"
   ]
  },
  {
   "cell_type": "code",
   "execution_count": 30,
   "metadata": {},
   "outputs": [
    {
     "name": "stdout",
     "output_type": "stream",
     "text": [
      "Over 1:\n",
      "3\n",
      "1\n",
      "2\n",
      "6\n",
      "w\n",
      "w\n",
      "Over 2:\n",
      "1\n",
      "wd\n",
      "wd\n",
      "4\n",
      "4\n",
      "2\n",
      "6\n",
      "1\n"
     ]
    }
   ],
   "source": [
    "tot_runs_2,runs_per_over_dict_2 = summary_card.overs(num_overs)"
   ]
  },
  {
   "cell_type": "code",
   "execution_count": 31,
   "metadata": {},
   "outputs": [
    {
     "name": "stderr",
     "output_type": "stream",
     "text": [
      "C:\\Users\\Shivam\\AppData\\Local\\Continuum\\anaconda3\\lib\\site-packages\\ipykernel_launcher.py:90: SettingWithCopyWarning: \n",
      "A value is trying to be set on a copy of a slice from a DataFrame\n",
      "\n",
      "See the caveats in the documentation: https://pandas.pydata.org/pandas-docs/stable/user_guide/indexing.html#returning-a-view-versus-a-copy\n",
      "C:\\Users\\Shivam\\AppData\\Local\\Continuum\\anaconda3\\lib\\site-packages\\ipykernel_launcher.py:91: SettingWithCopyWarning: \n",
      "A value is trying to be set on a copy of a slice from a DataFrame\n",
      "\n",
      "See the caveats in the documentation: https://pandas.pydata.org/pandas-docs/stable/user_guide/indexing.html#returning-a-view-versus-a-copy\n",
      "C:\\Users\\Shivam\\AppData\\Local\\Continuum\\anaconda3\\lib\\site-packages\\ipykernel_launcher.py:92: SettingWithCopyWarning: \n",
      "A value is trying to be set on a copy of a slice from a DataFrame\n",
      "\n",
      "See the caveats in the documentation: https://pandas.pydata.org/pandas-docs/stable/user_guide/indexing.html#returning-a-view-versus-a-copy\n"
     ]
    },
    {
     "data": {
      "text/html": [
       "<div>\n",
       "<style scoped>\n",
       "    .dataframe tbody tr th:only-of-type {\n",
       "        vertical-align: middle;\n",
       "    }\n",
       "\n",
       "    .dataframe tbody tr th {\n",
       "        vertical-align: top;\n",
       "    }\n",
       "\n",
       "    .dataframe thead th {\n",
       "        text-align: right;\n",
       "    }\n",
       "</style>\n",
       "<table border=\"1\" class=\"dataframe\">\n",
       "  <thead>\n",
       "    <tr style=\"text-align: right;\">\n",
       "      <th></th>\n",
       "      <th>Player Name</th>\n",
       "      <th>Score</th>\n",
       "      <th>4s</th>\n",
       "      <th>6s</th>\n",
       "      <th>Balls</th>\n",
       "    </tr>\n",
       "  </thead>\n",
       "  <tbody>\n",
       "    <tr>\n",
       "      <th>1</th>\n",
       "      <td>p1</td>\n",
       "      <td>11</td>\n",
       "      <td>0</td>\n",
       "      <td>1</td>\n",
       "      <td>4</td>\n",
       "    </tr>\n",
       "    <tr>\n",
       "      <th>2</th>\n",
       "      <td>p2</td>\n",
       "      <td>18</td>\n",
       "      <td>2</td>\n",
       "      <td>1</td>\n",
       "      <td>6</td>\n",
       "    </tr>\n",
       "    <tr>\n",
       "      <th>3</th>\n",
       "      <td>p3</td>\n",
       "      <td>0</td>\n",
       "      <td>0</td>\n",
       "      <td>0</td>\n",
       "      <td>1</td>\n",
       "    </tr>\n",
       "    <tr>\n",
       "      <th>4</th>\n",
       "      <td>p4</td>\n",
       "      <td>0</td>\n",
       "      <td>0</td>\n",
       "      <td>0</td>\n",
       "      <td>0</td>\n",
       "    </tr>\n",
       "    <tr>\n",
       "      <th>5</th>\n",
       "      <td>p5</td>\n",
       "      <td>1</td>\n",
       "      <td>0</td>\n",
       "      <td>0</td>\n",
       "      <td>1</td>\n",
       "    </tr>\n",
       "  </tbody>\n",
       "</table>\n",
       "</div>"
      ],
      "text/plain": [
       "  Player Name  Score 4s 6s Balls\n",
       "1          p1     11  0  1     4\n",
       "2          p2     18  2  1     6\n",
       "3          p3      0  0  0     1\n",
       "4          p4      0  0  0     0\n",
       "5          p5      1  0  0     1"
      ]
     },
     "execution_count": 31,
     "metadata": {},
     "output_type": "execute_result"
    }
   ],
   "source": [
    "scoring_card_team2 = summary_card.scorecard_status(runs_per_over_dict_2)\n",
    "scoring_card_team2"
   ]
  },
  {
   "cell_type": "code",
   "execution_count": 32,
   "metadata": {},
   "outputs": [
    {
     "name": "stdout",
     "output_type": "stream",
     "text": [
      "Total Runs by Team 2 : 32\n"
     ]
    }
   ],
   "source": [
    "print(\"Total Runs by Team 2 : {}\".format(np.sum(tot_runs_2)))"
   ]
  },
  {
   "cell_type": "code",
   "execution_count": 33,
   "metadata": {},
   "outputs": [
    {
     "name": "stdout",
     "output_type": "stream",
     "text": [
      "Team 1 won the match by 1\n"
     ]
    }
   ],
   "source": [
    "if (np.sum(tot_runs)>np.sum(tot_runs_2)):\n",
    "    print(\"Team 1 won the match by {}\".format(np.sum(tot_runs)-np.sum(tot_runs_2)))\n",
    "elif (np.sum(tot_runs) == np.sum(tot_runs_2)):\n",
    "    print(\"Match is tied\")\n",
    "else:\n",
    "    print(\"Team 2 won the match by {}\".format(np.sum(tot_runs_2)-np.sum(tot_runs)))"
   ]
  },
  {
   "cell_type": "markdown",
   "metadata": {},
   "source": [
    "#### Storing individual teams performance data into separate csv files that helps in analyzing later on"
   ]
  },
  {
   "cell_type": "code",
   "execution_count": 34,
   "metadata": {},
   "outputs": [],
   "source": [
    "scoring_card_team1.to_csv(r\"C:/Users/Shivam/Desktop/Shivam_Chauhan_1.csv\")\n",
    "scoring_card_team2.to_csv(r\"C:/Users/Shivam/Desktop/Shivam_Chauhan_2.csv\")"
   ]
  },
  {
   "cell_type": "markdown",
   "metadata": {},
   "source": [
    "#### SQL implementation"
   ]
  },
  {
   "cell_type": "code",
   "execution_count": 62,
   "metadata": {},
   "outputs": [],
   "source": [
    "import mysql.connector"
   ]
  },
  {
   "cell_type": "code",
   "execution_count": 63,
   "metadata": {},
   "outputs": [
    {
     "name": "stdout",
     "output_type": "stream",
     "text": [
      "<mysql.connector.connection_cext.CMySQLConnection object at 0x0000023C9C3E3EB8>\n"
     ]
    }
   ],
   "source": [
    "import mysql.connector\n",
    "\n",
    "mydb = mysql.connector.connect(\n",
    "  host=\"localhost\",\n",
    "  user=\"root\",\n",
    "  password=\"root\"\n",
    ")\n",
    "\n",
    "print(mydb)"
   ]
  },
  {
   "cell_type": "code",
   "execution_count": 64,
   "metadata": {},
   "outputs": [],
   "source": [
    "mycursor = mydb.cursor()"
   ]
  },
  {
   "cell_type": "markdown",
   "metadata": {},
   "source": [
    "#### Database sports created"
   ]
  },
  {
   "cell_type": "code",
   "execution_count": 65,
   "metadata": {},
   "outputs": [],
   "source": [
    "mycursor.execute(\"CREATE DATABASE sports\")"
   ]
  },
  {
   "cell_type": "code",
   "execution_count": 68,
   "metadata": {},
   "outputs": [],
   "source": [
    "mydb = mysql.connector.connect(\n",
    "  host=\"localhost\",\n",
    "  user=\"root\",\n",
    "  password=\"root\",\n",
    "  database=\"sports\"\n",
    ")\n",
    "\n",
    "mycursor = mydb.cursor()"
   ]
  },
  {
   "cell_type": "markdown",
   "metadata": {},
   "source": [
    "#### Table team_1 and team_2 created"
   ]
  },
  {
   "cell_type": "code",
   "execution_count": 74,
   "metadata": {},
   "outputs": [],
   "source": [
    "mycursor.execute(\"CREATE TABLE team_1 (PlayerName VARCHAR(50), Score INT, Fours INT, Sixes INT, Balls INT)\")"
   ]
  },
  {
   "cell_type": "markdown",
   "metadata": {},
   "source": [
    "#### sql insert query for team 1"
   ]
  },
  {
   "cell_type": "code",
   "execution_count": 92,
   "metadata": {},
   "outputs": [],
   "source": [
    "sql = (\"INSERT INTO team_1 (PlayerName,Score,Fours,Sixes,Balls)\" \"VALUES (%s,%s,%s,%s,%s)\")"
   ]
  },
  {
   "cell_type": "code",
   "execution_count": 96,
   "metadata": {},
   "outputs": [],
   "source": [
    "for i in scoring_card_team1.index:\n",
    "    mycursor.execute(sql,(scoring_card_team1['Player Name'][i],str(scoring_card_team1['Score'][i]),str(scoring_card_team1['4s'][i]),str(scoring_card_team1['6s'][i]),str(scoring_card_team1['Balls'][i])))"
   ]
  },
  {
   "cell_type": "markdown",
   "metadata": {},
   "source": [
    "#### Sql insert query for team2"
   ]
  },
  {
   "cell_type": "code",
   "execution_count": 102,
   "metadata": {},
   "outputs": [],
   "source": [
    "mycursor.execute(\"CREATE TABLE team_2 (PlayerName VARCHAR(50), Score VARCHAR(10), Fours VARCHAR(10), Sixes VARCHAR(10), Balls VARCHAR(10))\")\n",
    "sql = (\"INSERT INTO team_2 (PlayerName,Score,Fours,Sixes,Balls)\" \"VALUES (%s,%s,%s,%s,%s)\")"
   ]
  },
  {
   "cell_type": "code",
   "execution_count": 103,
   "metadata": {},
   "outputs": [],
   "source": [
    "for i in scoring_card_team2.index:\n",
    "    mycursor.execute(sql,(scoring_card_team2['Player Name'][i],str(scoring_card_team2['Score'][i]),str(scoring_card_team2['4s'][i]),str(scoring_card_team2['6s'][i]),str(scoring_card_team2['Balls'][i])))"
   ]
  },
  {
   "cell_type": "code",
   "execution_count": null,
   "metadata": {},
   "outputs": [],
   "source": []
  }
 ],
 "metadata": {
  "kernelspec": {
   "display_name": "Python 3",
   "language": "python",
   "name": "python3"
  },
  "language_info": {
   "codemirror_mode": {
    "name": "ipython",
    "version": 3
   },
   "file_extension": ".py",
   "mimetype": "text/x-python",
   "name": "python",
   "nbconvert_exporter": "python",
   "pygments_lexer": "ipython3",
   "version": "3.7.3"
  }
 },
 "nbformat": 4,
 "nbformat_minor": 2
}
